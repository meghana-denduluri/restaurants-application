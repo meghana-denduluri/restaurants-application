{
  "nbformat": 4,
  "nbformat_minor": 0,
  "metadata": {
    "colab": {
      "name": "Data Wrangling 1.ipynb",
      "provenance": [],
      "collapsed_sections": [],
      "machine_shape": "hm"
    },
    "kernelspec": {
      "name": "python3",
      "display_name": "Python 3"
    }
  },
  "cells": [
    {
      "cell_type": "markdown",
      "metadata": {
        "id": "j-ziWpPq7zEL"
      },
      "source": [
        "# **Mount Drive**\r\n",
        "\r\n",
        "The code cell below is reponsible for mounting google drive, making it easy to access dataset from the drive folder directly.\r\n"
      ]
    },
    {
      "cell_type": "code",
      "metadata": {
        "id": "Z-iAxPX8rPE0",
        "colab": {
          "base_uri": "https://localhost:8080/"
        },
        "outputId": "87de19cb-37f1-42a6-90e0-6012da20814b"
      },
      "source": [
        "import pandas as pd\n",
        "from google.colab import drive\n",
        "drive.mount('/content/drive')"
      ],
      "execution_count": null,
      "outputs": [
        {
          "output_type": "stream",
          "text": [
            "Mounted at /content/drive\n"
          ],
          "name": "stdout"
        }
      ]
    },
    {
      "cell_type": "markdown",
      "metadata": {
        "id": "ZHujr3nO8Er1"
      },
      "source": [
        "# **Uploading data sets from drive**"
      ]
    },
    {
      "cell_type": "code",
      "metadata": {
        "id": "fIpqWFSGppqQ"
      },
      "source": [
        "path = '/content/drive/My Drive/Project - CIS 550'"
      ],
      "execution_count": null,
      "outputs": []
    },
    {
      "cell_type": "code",
      "metadata": {
        "id": "TVksRsT8nvMY"
      },
      "source": [
        "# Kaggle data set\n",
        "recipes_df = pd.read_csv(\"/content/drive/My Drive/Project - CIS 550/PP_recipes.csv\")\n",
        "users_df = pd.read_csv(\"/content/drive/My Drive/Project - CIS 550/PP_users.csv\")\n",
        "interactions_csv = pd.read_csv(\"/content/drive/My Drive/Project - CIS 550/RAW_interactions.csv\")\n",
        "raw_recipes = pd.read_csv(\"/content/drive/My Drive/Project - CIS 550/RAW_recipes.csv\")"
      ],
      "execution_count": null,
      "outputs": []
    },
    {
      "cell_type": "code",
      "metadata": {
        "id": "dNn9YDH5rN74",
        "colab": {
          "base_uri": "https://localhost:8080/",
          "height": 414
        },
        "outputId": "23c69f9f-8b0e-48e1-9fb7-e5521560dac8"
      },
      "source": [
        "recipes_df.head(4)"
      ],
      "execution_count": null,
      "outputs": [
        {
          "output_type": "execute_result",
          "data": {
            "text/html": [
              "<div>\n",
              "<style scoped>\n",
              "    .dataframe tbody tr th:only-of-type {\n",
              "        vertical-align: middle;\n",
              "    }\n",
              "\n",
              "    .dataframe tbody tr th {\n",
              "        vertical-align: top;\n",
              "    }\n",
              "\n",
              "    .dataframe thead th {\n",
              "        text-align: right;\n",
              "    }\n",
              "</style>\n",
              "<table border=\"1\" class=\"dataframe\">\n",
              "  <thead>\n",
              "    <tr style=\"text-align: right;\">\n",
              "      <th></th>\n",
              "      <th>id</th>\n",
              "      <th>i</th>\n",
              "      <th>name_tokens</th>\n",
              "      <th>ingredient_tokens</th>\n",
              "      <th>steps_tokens</th>\n",
              "      <th>techniques</th>\n",
              "      <th>calorie_level</th>\n",
              "      <th>ingredient_ids</th>\n",
              "    </tr>\n",
              "  </thead>\n",
              "  <tbody>\n",
              "    <tr>\n",
              "      <th>0</th>\n",
              "      <td>424415</td>\n",
              "      <td>23</td>\n",
              "      <td>[40480, 37229, 2911, 1019, 249, 6878, 6878, 28...</td>\n",
              "      <td>[[2911, 1019, 249, 6878], [1353], [6953], [153...</td>\n",
              "      <td>[40480, 40482, 21662, 481, 6878, 500, 246, 161...</td>\n",
              "      <td>[0, 0, 0, 0, 0, 0, 0, 0, 0, 1, 0, 0, 0, 0, 0, ...</td>\n",
              "      <td>0</td>\n",
              "      <td>[389, 7655, 6270, 1527, 3406]</td>\n",
              "    </tr>\n",
              "    <tr>\n",
              "      <th>1</th>\n",
              "      <td>146223</td>\n",
              "      <td>96900</td>\n",
              "      <td>[40480, 18376, 7056, 246, 1531, 2032, 40481]</td>\n",
              "      <td>[[17918], [25916], [2507, 6444], [8467, 1179],...</td>\n",
              "      <td>[40480, 40482, 729, 2525, 10906, 485, 43, 8393...</td>\n",
              "      <td>[1, 0, 0, 0, 0, 0, 0, 0, 0, 1, 0, 0, 0, 0, 0, ...</td>\n",
              "      <td>0</td>\n",
              "      <td>[2683, 4969, 800, 5298, 840, 2499, 6632, 7022,...</td>\n",
              "    </tr>\n",
              "    <tr>\n",
              "      <th>2</th>\n",
              "      <td>312329</td>\n",
              "      <td>120056</td>\n",
              "      <td>[40480, 21044, 16954, 8294, 556, 10837, 40481]</td>\n",
              "      <td>[[5867, 24176], [1353], [6953], [1301, 11332],...</td>\n",
              "      <td>[40480, 40482, 8240, 481, 24176, 296, 1353, 66...</td>\n",
              "      <td>[0, 0, 0, 0, 1, 0, 0, 0, 0, 0, 0, 1, 0, 0, 0, ...</td>\n",
              "      <td>1</td>\n",
              "      <td>[1257, 7655, 6270, 590, 5024, 1119, 4883, 6696...</td>\n",
              "    </tr>\n",
              "    <tr>\n",
              "      <th>3</th>\n",
              "      <td>74301</td>\n",
              "      <td>168258</td>\n",
              "      <td>[40480, 10025, 31156, 40481]</td>\n",
              "      <td>[[1270, 1645, 28447], [21601], [27952, 29471, ...</td>\n",
              "      <td>[40480, 40482, 5539, 21601, 1073, 903, 2324, 4...</td>\n",
              "      <td>[1, 0, 0, 0, 0, 0, 0, 0, 0, 0, 0, 0, 0, 0, 0, ...</td>\n",
              "      <td>0</td>\n",
              "      <td>[7940, 3609, 7060, 6265, 1170, 6654, 5003, 3561]</td>\n",
              "    </tr>\n",
              "  </tbody>\n",
              "</table>\n",
              "</div>"
            ],
            "text/plain": [
              "       id  ...                                     ingredient_ids\n",
              "0  424415  ...                      [389, 7655, 6270, 1527, 3406]\n",
              "1  146223  ...  [2683, 4969, 800, 5298, 840, 2499, 6632, 7022,...\n",
              "2  312329  ...  [1257, 7655, 6270, 590, 5024, 1119, 4883, 6696...\n",
              "3   74301  ...   [7940, 3609, 7060, 6265, 1170, 6654, 5003, 3561]\n",
              "\n",
              "[4 rows x 8 columns]"
            ]
          },
          "metadata": {
            "tags": []
          },
          "execution_count": 4
        }
      ]
    },
    {
      "cell_type": "code",
      "metadata": {
        "id": "oEHVvI9yu2vq",
        "colab": {
          "base_uri": "https://localhost:8080/",
          "height": 297
        },
        "outputId": "4740d36d-e991-4af4-e24d-710aaf59f1e2"
      },
      "source": [
        "recipes_df.describe()"
      ],
      "execution_count": null,
      "outputs": [
        {
          "output_type": "execute_result",
          "data": {
            "text/html": [
              "<div>\n",
              "<style scoped>\n",
              "    .dataframe tbody tr th:only-of-type {\n",
              "        vertical-align: middle;\n",
              "    }\n",
              "\n",
              "    .dataframe tbody tr th {\n",
              "        vertical-align: top;\n",
              "    }\n",
              "\n",
              "    .dataframe thead th {\n",
              "        text-align: right;\n",
              "    }\n",
              "</style>\n",
              "<table border=\"1\" class=\"dataframe\">\n",
              "  <thead>\n",
              "    <tr style=\"text-align: right;\">\n",
              "      <th></th>\n",
              "      <th>id</th>\n",
              "      <th>i</th>\n",
              "      <th>calorie_level</th>\n",
              "    </tr>\n",
              "  </thead>\n",
              "  <tbody>\n",
              "    <tr>\n",
              "      <th>count</th>\n",
              "      <td>178265.000000</td>\n",
              "      <td>178265.000000</td>\n",
              "      <td>178265.000000</td>\n",
              "    </tr>\n",
              "    <tr>\n",
              "      <th>mean</th>\n",
              "      <td>213461.803007</td>\n",
              "      <td>89132.000000</td>\n",
              "      <td>0.863192</td>\n",
              "    </tr>\n",
              "    <tr>\n",
              "      <th>std</th>\n",
              "      <td>138266.712754</td>\n",
              "      <td>51460.817206</td>\n",
              "      <td>0.791486</td>\n",
              "    </tr>\n",
              "    <tr>\n",
              "      <th>min</th>\n",
              "      <td>38.000000</td>\n",
              "      <td>0.000000</td>\n",
              "      <td>0.000000</td>\n",
              "    </tr>\n",
              "    <tr>\n",
              "      <th>25%</th>\n",
              "      <td>94576.000000</td>\n",
              "      <td>44566.000000</td>\n",
              "      <td>0.000000</td>\n",
              "    </tr>\n",
              "    <tr>\n",
              "      <th>50%</th>\n",
              "      <td>196312.000000</td>\n",
              "      <td>89132.000000</td>\n",
              "      <td>1.000000</td>\n",
              "    </tr>\n",
              "    <tr>\n",
              "      <th>75%</th>\n",
              "      <td>320562.000000</td>\n",
              "      <td>133698.000000</td>\n",
              "      <td>2.000000</td>\n",
              "    </tr>\n",
              "    <tr>\n",
              "      <th>max</th>\n",
              "      <td>537716.000000</td>\n",
              "      <td>178264.000000</td>\n",
              "      <td>2.000000</td>\n",
              "    </tr>\n",
              "  </tbody>\n",
              "</table>\n",
              "</div>"
            ],
            "text/plain": [
              "                  id              i  calorie_level\n",
              "count  178265.000000  178265.000000  178265.000000\n",
              "mean   213461.803007   89132.000000       0.863192\n",
              "std    138266.712754   51460.817206       0.791486\n",
              "min        38.000000       0.000000       0.000000\n",
              "25%     94576.000000   44566.000000       0.000000\n",
              "50%    196312.000000   89132.000000       1.000000\n",
              "75%    320562.000000  133698.000000       2.000000\n",
              "max    537716.000000  178264.000000       2.000000"
            ]
          },
          "metadata": {
            "tags": []
          },
          "execution_count": 5
        }
      ]
    },
    {
      "cell_type": "code",
      "metadata": {
        "id": "O3Ts7ZOqra99",
        "colab": {
          "base_uri": "https://localhost:8080/",
          "height": 297
        },
        "outputId": "51ca96b8-5794-4dc5-e7f8-fd8c9a8233db"
      },
      "source": [
        "users_df.describe()"
      ],
      "execution_count": null,
      "outputs": [
        {
          "output_type": "execute_result",
          "data": {
            "text/html": [
              "<div>\n",
              "<style scoped>\n",
              "    .dataframe tbody tr th:only-of-type {\n",
              "        vertical-align: middle;\n",
              "    }\n",
              "\n",
              "    .dataframe tbody tr th {\n",
              "        vertical-align: top;\n",
              "    }\n",
              "\n",
              "    .dataframe thead th {\n",
              "        text-align: right;\n",
              "    }\n",
              "</style>\n",
              "<table border=\"1\" class=\"dataframe\">\n",
              "  <thead>\n",
              "    <tr style=\"text-align: right;\">\n",
              "      <th></th>\n",
              "      <th>u</th>\n",
              "      <th>n_items</th>\n",
              "      <th>n_ratings</th>\n",
              "    </tr>\n",
              "  </thead>\n",
              "  <tbody>\n",
              "    <tr>\n",
              "      <th>count</th>\n",
              "      <td>25076.000000</td>\n",
              "      <td>25076.000000</td>\n",
              "      <td>25076.000000</td>\n",
              "    </tr>\n",
              "    <tr>\n",
              "      <th>mean</th>\n",
              "      <td>12537.500000</td>\n",
              "      <td>27.871311</td>\n",
              "      <td>27.871311</td>\n",
              "    </tr>\n",
              "    <tr>\n",
              "      <th>std</th>\n",
              "      <td>7238.962011</td>\n",
              "      <td>122.729039</td>\n",
              "      <td>122.729039</td>\n",
              "    </tr>\n",
              "    <tr>\n",
              "      <th>min</th>\n",
              "      <td>0.000000</td>\n",
              "      <td>2.000000</td>\n",
              "      <td>2.000000</td>\n",
              "    </tr>\n",
              "    <tr>\n",
              "      <th>25%</th>\n",
              "      <td>6268.750000</td>\n",
              "      <td>3.000000</td>\n",
              "      <td>3.000000</td>\n",
              "    </tr>\n",
              "    <tr>\n",
              "      <th>50%</th>\n",
              "      <td>12537.500000</td>\n",
              "      <td>6.000000</td>\n",
              "      <td>6.000000</td>\n",
              "    </tr>\n",
              "    <tr>\n",
              "      <th>75%</th>\n",
              "      <td>18806.250000</td>\n",
              "      <td>16.000000</td>\n",
              "      <td>16.000000</td>\n",
              "    </tr>\n",
              "    <tr>\n",
              "      <th>max</th>\n",
              "      <td>25075.000000</td>\n",
              "      <td>6437.000000</td>\n",
              "      <td>6437.000000</td>\n",
              "    </tr>\n",
              "  </tbody>\n",
              "</table>\n",
              "</div>"
            ],
            "text/plain": [
              "                  u       n_items     n_ratings\n",
              "count  25076.000000  25076.000000  25076.000000\n",
              "mean   12537.500000     27.871311     27.871311\n",
              "std     7238.962011    122.729039    122.729039\n",
              "min        0.000000      2.000000      2.000000\n",
              "25%     6268.750000      3.000000      3.000000\n",
              "50%    12537.500000      6.000000      6.000000\n",
              "75%    18806.250000     16.000000     16.000000\n",
              "max    25075.000000   6437.000000   6437.000000"
            ]
          },
          "metadata": {
            "tags": []
          },
          "execution_count": 6
        }
      ]
    },
    {
      "cell_type": "code",
      "metadata": {
        "id": "YFZ73XTb0Ekn",
        "colab": {
          "base_uri": "https://localhost:8080/",
          "height": 289
        },
        "outputId": "6c601db0-47a9-4989-8370-d4d866fe2cd0"
      },
      "source": [
        "users_df.head(5)"
      ],
      "execution_count": null,
      "outputs": [
        {
          "output_type": "execute_result",
          "data": {
            "text/html": [
              "<div>\n",
              "<style scoped>\n",
              "    .dataframe tbody tr th:only-of-type {\n",
              "        vertical-align: middle;\n",
              "    }\n",
              "\n",
              "    .dataframe tbody tr th {\n",
              "        vertical-align: top;\n",
              "    }\n",
              "\n",
              "    .dataframe thead th {\n",
              "        text-align: right;\n",
              "    }\n",
              "</style>\n",
              "<table border=\"1\" class=\"dataframe\">\n",
              "  <thead>\n",
              "    <tr style=\"text-align: right;\">\n",
              "      <th></th>\n",
              "      <th>u</th>\n",
              "      <th>techniques</th>\n",
              "      <th>items</th>\n",
              "      <th>n_items</th>\n",
              "      <th>ratings</th>\n",
              "      <th>n_ratings</th>\n",
              "    </tr>\n",
              "  </thead>\n",
              "  <tbody>\n",
              "    <tr>\n",
              "      <th>0</th>\n",
              "      <td>0</td>\n",
              "      <td>[8, 0, 0, 5, 6, 0, 0, 1, 0, 9, 1, 0, 0, 0, 1, ...</td>\n",
              "      <td>[1118, 27680, 32541, 137353, 16428, 28815, 658...</td>\n",
              "      <td>31</td>\n",
              "      <td>[5.0, 5.0, 5.0, 5.0, 5.0, 5.0, 5.0, 4.0, 4.0, ...</td>\n",
              "      <td>31</td>\n",
              "    </tr>\n",
              "    <tr>\n",
              "      <th>1</th>\n",
              "      <td>1</td>\n",
              "      <td>[11, 0, 0, 2, 12, 0, 0, 0, 0, 14, 5, 0, 0, 0, ...</td>\n",
              "      <td>[122140, 77036, 156817, 76957, 68818, 155600, ...</td>\n",
              "      <td>39</td>\n",
              "      <td>[5.0, 5.0, 5.0, 5.0, 5.0, 5.0, 5.0, 5.0, 5.0, ...</td>\n",
              "      <td>39</td>\n",
              "    </tr>\n",
              "    <tr>\n",
              "      <th>2</th>\n",
              "      <td>2</td>\n",
              "      <td>[13, 0, 0, 7, 5, 0, 1, 2, 1, 11, 0, 1, 0, 0, 1...</td>\n",
              "      <td>[168054, 87218, 35731, 1, 20475, 9039, 124834,...</td>\n",
              "      <td>27</td>\n",
              "      <td>[3.0, 4.0, 4.0, 4.0, 4.0, 4.0, 4.0, 4.0, 5.0, ...</td>\n",
              "      <td>27</td>\n",
              "    </tr>\n",
              "    <tr>\n",
              "      <th>3</th>\n",
              "      <td>3</td>\n",
              "      <td>[498, 13, 4, 218, 376, 3, 2, 33, 16, 591, 10, ...</td>\n",
              "      <td>[163193, 156352, 102888, 19914, 169438, 55772,...</td>\n",
              "      <td>1513</td>\n",
              "      <td>[5.0, 5.0, 5.0, 5.0, 4.0, 4.0, 5.0, 5.0, 5.0, ...</td>\n",
              "      <td>1513</td>\n",
              "    </tr>\n",
              "    <tr>\n",
              "      <th>4</th>\n",
              "      <td>4</td>\n",
              "      <td>[161, 1, 1, 86, 93, 0, 0, 11, 2, 141, 0, 16, 0...</td>\n",
              "      <td>[72857, 38652, 160427, 55772, 119999, 141777, ...</td>\n",
              "      <td>376</td>\n",
              "      <td>[5.0, 5.0, 5.0, 5.0, 4.0, 4.0, 5.0, 4.0, 5.0, ...</td>\n",
              "      <td>376</td>\n",
              "    </tr>\n",
              "  </tbody>\n",
              "</table>\n",
              "</div>"
            ],
            "text/plain": [
              "   u  ... n_ratings\n",
              "0  0  ...        31\n",
              "1  1  ...        39\n",
              "2  2  ...        27\n",
              "3  3  ...      1513\n",
              "4  4  ...       376\n",
              "\n",
              "[5 rows x 6 columns]"
            ]
          },
          "metadata": {
            "tags": []
          },
          "execution_count": 7
        }
      ]
    },
    {
      "cell_type": "code",
      "metadata": {
        "id": "PHBlihiGrdsx",
        "colab": {
          "base_uri": "https://localhost:8080/",
          "height": 297
        },
        "outputId": "a00ebb14-d066-4849-af4d-1f87527d03b0"
      },
      "source": [
        "interactions_csv.describe()"
      ],
      "execution_count": null,
      "outputs": [
        {
          "output_type": "execute_result",
          "data": {
            "text/html": [
              "<div>\n",
              "<style scoped>\n",
              "    .dataframe tbody tr th:only-of-type {\n",
              "        vertical-align: middle;\n",
              "    }\n",
              "\n",
              "    .dataframe tbody tr th {\n",
              "        vertical-align: top;\n",
              "    }\n",
              "\n",
              "    .dataframe thead th {\n",
              "        text-align: right;\n",
              "    }\n",
              "</style>\n",
              "<table border=\"1\" class=\"dataframe\">\n",
              "  <thead>\n",
              "    <tr style=\"text-align: right;\">\n",
              "      <th></th>\n",
              "      <th>user_id</th>\n",
              "      <th>recipe_id</th>\n",
              "      <th>rating</th>\n",
              "    </tr>\n",
              "  </thead>\n",
              "  <tbody>\n",
              "    <tr>\n",
              "      <th>count</th>\n",
              "      <td>1.132367e+06</td>\n",
              "      <td>1.132367e+06</td>\n",
              "      <td>1.132367e+06</td>\n",
              "    </tr>\n",
              "    <tr>\n",
              "      <th>mean</th>\n",
              "      <td>1.384291e+08</td>\n",
              "      <td>1.608972e+05</td>\n",
              "      <td>4.411016e+00</td>\n",
              "    </tr>\n",
              "    <tr>\n",
              "      <th>std</th>\n",
              "      <td>5.014269e+08</td>\n",
              "      <td>1.303987e+05</td>\n",
              "      <td>1.264752e+00</td>\n",
              "    </tr>\n",
              "    <tr>\n",
              "      <th>min</th>\n",
              "      <td>1.533000e+03</td>\n",
              "      <td>3.800000e+01</td>\n",
              "      <td>0.000000e+00</td>\n",
              "    </tr>\n",
              "    <tr>\n",
              "      <th>25%</th>\n",
              "      <td>1.354700e+05</td>\n",
              "      <td>5.425700e+04</td>\n",
              "      <td>4.000000e+00</td>\n",
              "    </tr>\n",
              "    <tr>\n",
              "      <th>50%</th>\n",
              "      <td>3.309370e+05</td>\n",
              "      <td>1.205470e+05</td>\n",
              "      <td>5.000000e+00</td>\n",
              "    </tr>\n",
              "    <tr>\n",
              "      <th>75%</th>\n",
              "      <td>8.045500e+05</td>\n",
              "      <td>2.438520e+05</td>\n",
              "      <td>5.000000e+00</td>\n",
              "    </tr>\n",
              "    <tr>\n",
              "      <th>max</th>\n",
              "      <td>2.002373e+09</td>\n",
              "      <td>5.377160e+05</td>\n",
              "      <td>5.000000e+00</td>\n",
              "    </tr>\n",
              "  </tbody>\n",
              "</table>\n",
              "</div>"
            ],
            "text/plain": [
              "            user_id     recipe_id        rating\n",
              "count  1.132367e+06  1.132367e+06  1.132367e+06\n",
              "mean   1.384291e+08  1.608972e+05  4.411016e+00\n",
              "std    5.014269e+08  1.303987e+05  1.264752e+00\n",
              "min    1.533000e+03  3.800000e+01  0.000000e+00\n",
              "25%    1.354700e+05  5.425700e+04  4.000000e+00\n",
              "50%    3.309370e+05  1.205470e+05  5.000000e+00\n",
              "75%    8.045500e+05  2.438520e+05  5.000000e+00\n",
              "max    2.002373e+09  5.377160e+05  5.000000e+00"
            ]
          },
          "metadata": {
            "tags": []
          },
          "execution_count": 8
        }
      ]
    },
    {
      "cell_type": "code",
      "metadata": {
        "id": "tocK5bLNrf9e",
        "colab": {
          "base_uri": "https://localhost:8080/",
          "height": 359
        },
        "outputId": "50648130-042b-472c-9a4e-8b5b1d77d92e"
      },
      "source": [
        "interactions_csv.head(10)"
      ],
      "execution_count": null,
      "outputs": [
        {
          "output_type": "execute_result",
          "data": {
            "text/html": [
              "<div>\n",
              "<style scoped>\n",
              "    .dataframe tbody tr th:only-of-type {\n",
              "        vertical-align: middle;\n",
              "    }\n",
              "\n",
              "    .dataframe tbody tr th {\n",
              "        vertical-align: top;\n",
              "    }\n",
              "\n",
              "    .dataframe thead th {\n",
              "        text-align: right;\n",
              "    }\n",
              "</style>\n",
              "<table border=\"1\" class=\"dataframe\">\n",
              "  <thead>\n",
              "    <tr style=\"text-align: right;\">\n",
              "      <th></th>\n",
              "      <th>user_id</th>\n",
              "      <th>recipe_id</th>\n",
              "      <th>date</th>\n",
              "      <th>rating</th>\n",
              "      <th>review</th>\n",
              "    </tr>\n",
              "  </thead>\n",
              "  <tbody>\n",
              "    <tr>\n",
              "      <th>0</th>\n",
              "      <td>38094</td>\n",
              "      <td>40893</td>\n",
              "      <td>2003-02-17</td>\n",
              "      <td>4</td>\n",
              "      <td>Great with a salad. Cooked on top of stove for...</td>\n",
              "    </tr>\n",
              "    <tr>\n",
              "      <th>1</th>\n",
              "      <td>1293707</td>\n",
              "      <td>40893</td>\n",
              "      <td>2011-12-21</td>\n",
              "      <td>5</td>\n",
              "      <td>So simple, so delicious! Great for chilly fall...</td>\n",
              "    </tr>\n",
              "    <tr>\n",
              "      <th>2</th>\n",
              "      <td>8937</td>\n",
              "      <td>44394</td>\n",
              "      <td>2002-12-01</td>\n",
              "      <td>4</td>\n",
              "      <td>This worked very well and is EASY.  I used not...</td>\n",
              "    </tr>\n",
              "    <tr>\n",
              "      <th>3</th>\n",
              "      <td>126440</td>\n",
              "      <td>85009</td>\n",
              "      <td>2010-02-27</td>\n",
              "      <td>5</td>\n",
              "      <td>I made the Mexican topping and took it to bunk...</td>\n",
              "    </tr>\n",
              "    <tr>\n",
              "      <th>4</th>\n",
              "      <td>57222</td>\n",
              "      <td>85009</td>\n",
              "      <td>2011-10-01</td>\n",
              "      <td>5</td>\n",
              "      <td>Made the cheddar bacon topping, adding a sprin...</td>\n",
              "    </tr>\n",
              "    <tr>\n",
              "      <th>5</th>\n",
              "      <td>52282</td>\n",
              "      <td>120345</td>\n",
              "      <td>2005-05-21</td>\n",
              "      <td>4</td>\n",
              "      <td>very very sweet. after i waited the 2 days i b...</td>\n",
              "    </tr>\n",
              "    <tr>\n",
              "      <th>6</th>\n",
              "      <td>124416</td>\n",
              "      <td>120345</td>\n",
              "      <td>2011-08-06</td>\n",
              "      <td>0</td>\n",
              "      <td>Just an observation, so I will not rate.  I fo...</td>\n",
              "    </tr>\n",
              "    <tr>\n",
              "      <th>7</th>\n",
              "      <td>2000192946</td>\n",
              "      <td>120345</td>\n",
              "      <td>2015-05-10</td>\n",
              "      <td>2</td>\n",
              "      <td>This recipe was OVERLY too sweet.  I would sta...</td>\n",
              "    </tr>\n",
              "    <tr>\n",
              "      <th>8</th>\n",
              "      <td>76535</td>\n",
              "      <td>134728</td>\n",
              "      <td>2005-09-02</td>\n",
              "      <td>4</td>\n",
              "      <td>Very good!</td>\n",
              "    </tr>\n",
              "    <tr>\n",
              "      <th>9</th>\n",
              "      <td>273745</td>\n",
              "      <td>134728</td>\n",
              "      <td>2005-12-22</td>\n",
              "      <td>5</td>\n",
              "      <td>Better than the real!!</td>\n",
              "    </tr>\n",
              "  </tbody>\n",
              "</table>\n",
              "</div>"
            ],
            "text/plain": [
              "      user_id  ...                                             review\n",
              "0       38094  ...  Great with a salad. Cooked on top of stove for...\n",
              "1     1293707  ...  So simple, so delicious! Great for chilly fall...\n",
              "2        8937  ...  This worked very well and is EASY.  I used not...\n",
              "3      126440  ...  I made the Mexican topping and took it to bunk...\n",
              "4       57222  ...  Made the cheddar bacon topping, adding a sprin...\n",
              "5       52282  ...  very very sweet. after i waited the 2 days i b...\n",
              "6      124416  ...  Just an observation, so I will not rate.  I fo...\n",
              "7  2000192946  ...  This recipe was OVERLY too sweet.  I would sta...\n",
              "8       76535  ...                                         Very good!\n",
              "9      273745  ...                             Better than the real!!\n",
              "\n",
              "[10 rows x 5 columns]"
            ]
          },
          "metadata": {
            "tags": []
          },
          "execution_count": 9
        }
      ]
    },
    {
      "cell_type": "code",
      "metadata": {
        "id": "XxTttbdv3IMn",
        "colab": {
          "base_uri": "https://localhost:8080/",
          "height": 318
        },
        "outputId": "3ea8a546-9ce1-417c-9682-2ed9508a0279"
      },
      "source": [
        "raw_recipes.head(2)"
      ],
      "execution_count": null,
      "outputs": [
        {
          "output_type": "execute_result",
          "data": {
            "text/html": [
              "<div>\n",
              "<style scoped>\n",
              "    .dataframe tbody tr th:only-of-type {\n",
              "        vertical-align: middle;\n",
              "    }\n",
              "\n",
              "    .dataframe tbody tr th {\n",
              "        vertical-align: top;\n",
              "    }\n",
              "\n",
              "    .dataframe thead th {\n",
              "        text-align: right;\n",
              "    }\n",
              "</style>\n",
              "<table border=\"1\" class=\"dataframe\">\n",
              "  <thead>\n",
              "    <tr style=\"text-align: right;\">\n",
              "      <th></th>\n",
              "      <th>name</th>\n",
              "      <th>id</th>\n",
              "      <th>minutes</th>\n",
              "      <th>contributor_id</th>\n",
              "      <th>submitted</th>\n",
              "      <th>tags</th>\n",
              "      <th>nutrition</th>\n",
              "      <th>n_steps</th>\n",
              "      <th>steps</th>\n",
              "      <th>description</th>\n",
              "      <th>ingredients</th>\n",
              "      <th>n_ingredients</th>\n",
              "    </tr>\n",
              "  </thead>\n",
              "  <tbody>\n",
              "    <tr>\n",
              "      <th>0</th>\n",
              "      <td>arriba   baked winter squash mexican style</td>\n",
              "      <td>137739</td>\n",
              "      <td>55</td>\n",
              "      <td>47892</td>\n",
              "      <td>2005-09-16</td>\n",
              "      <td>['60-minutes-or-less', 'time-to-make', 'course...</td>\n",
              "      <td>[51.5, 0.0, 13.0, 0.0, 2.0, 0.0, 4.0]</td>\n",
              "      <td>11</td>\n",
              "      <td>['make a choice and proceed with recipe', 'dep...</td>\n",
              "      <td>autumn is my favorite time of year to cook! th...</td>\n",
              "      <td>['winter squash', 'mexican seasoning', 'mixed ...</td>\n",
              "      <td>7</td>\n",
              "    </tr>\n",
              "    <tr>\n",
              "      <th>1</th>\n",
              "      <td>a bit different  breakfast pizza</td>\n",
              "      <td>31490</td>\n",
              "      <td>30</td>\n",
              "      <td>26278</td>\n",
              "      <td>2002-06-17</td>\n",
              "      <td>['30-minutes-or-less', 'time-to-make', 'course...</td>\n",
              "      <td>[173.4, 18.0, 0.0, 17.0, 22.0, 35.0, 1.0]</td>\n",
              "      <td>9</td>\n",
              "      <td>['preheat oven to 425 degrees f', 'press dough...</td>\n",
              "      <td>this recipe calls for the crust to be prebaked...</td>\n",
              "      <td>['prepared pizza crust', 'sausage patty', 'egg...</td>\n",
              "      <td>6</td>\n",
              "    </tr>\n",
              "  </tbody>\n",
              "</table>\n",
              "</div>"
            ],
            "text/plain": [
              "                                         name  ...  n_ingredients\n",
              "0  arriba   baked winter squash mexican style  ...              7\n",
              "1            a bit different  breakfast pizza  ...              6\n",
              "\n",
              "[2 rows x 12 columns]"
            ]
          },
          "metadata": {
            "tags": []
          },
          "execution_count": 10
        }
      ]
    },
    {
      "cell_type": "markdown",
      "metadata": {
        "id": "zInMxSTW9sTI"
      },
      "source": [
        "# **Imports**\r\n",
        "\r\n",
        "Packages required for data cleaning are imported in the following code cells below. "
      ]
    },
    {
      "cell_type": "code",
      "metadata": {
        "id": "h_gvwJtGwqqd"
      },
      "source": [
        "%%capture\n",
        "!apt install libkrb5-dev\n",
        "!wget https://downloads.apache.org/spark/spark-3.0.1/spark-3.0.1-bin-hadoop3.2.tgz\n",
        "!tar xf spark-3.0.1-bin-hadoop3.2.tgz\n",
        "!pip install findspark\n",
        "!pip install sparkmagic\n",
        "!pip install pyspark\n",
        "! pip install pyspark --user\n",
        "! pip install seaborn --user\n",
        "! pip install plotly --user\n",
        "! pip install imageio --user\n",
        "! pip install folium --user"
      ],
      "execution_count": null,
      "outputs": []
    },
    {
      "cell_type": "code",
      "metadata": {
        "id": "TDvaOdjuwtNw"
      },
      "source": [
        "%%capture\n",
        "!apt update\n",
        "!apt install gcc python-dev libkrb5-dev"
      ],
      "execution_count": null,
      "outputs": []
    },
    {
      "cell_type": "code",
      "metadata": {
        "id": "0-s7YjIMwvB-"
      },
      "source": [
        "from pyspark.sql import SparkSession\n",
        "from pyspark.sql.types import *\n",
        "import pyspark.sql.functions as F\n",
        "\n",
        "\n",
        "import os\n",
        "spark = SparkSession.builder.appName('Graphs-HW2')\\\n",
        ".config(\"spark.driver.maxResultSize\", \"2g\")\\\n",
        ".config(\"spark.driver.memory\", \"15g\")\\\n",
        ".config('spark.executor.memory','32g')\\\n",
        ".getOrCreate()"
      ],
      "execution_count": null,
      "outputs": []
    },
    {
      "cell_type": "code",
      "metadata": {
        "id": "A_s08yi9wvy-"
      },
      "source": [
        "%load_ext sparkmagic.magics"
      ],
      "execution_count": null,
      "outputs": []
    },
    {
      "cell_type": "code",
      "metadata": {
        "id": "Apz0oJ-Tw1AD"
      },
      "source": [
        "import numpy as np\n",
        "import pandas as pd\n",
        "import matplotlib\n",
        "\n",
        "#misc\n",
        "import gc\n",
        "import time\n",
        "import warnings\n",
        "\n",
        "\n",
        "#graph section\n",
        "import networkx as nx\n",
        "#import heapq  # for getting top n number of things from list,dict\n",
        "import pandas as pd\n",
        "import numpy as np\n",
        "\n",
        "# JSON parsing\n",
        "import json\n",
        "\n",
        "# HTML parsing\n",
        "from lxml import etree\n",
        "import urllib\n",
        "\n",
        "# SQLite RDBMS\n",
        "import sqlite3\n",
        "\n",
        "# Time conversions\n",
        "import time\n",
        "\n",
        "# Parallel processing\n",
        "# import swifter\n",
        "\n",
        "# NoSQL DB\n",
        "from pymongo import MongoClient\n",
        "from pymongo.errors import DuplicateKeyError, OperationFailure\n",
        "\n",
        "import os\n",
        "os.environ[\"SPARK_HOME\"] = \"/content/spark-3.0.1-bin-hadoop3.2\"\n",
        "os.environ[\"JAVA_HOME\"] = \"/usr/lib/jvm/java-8-openjdk-amd64\"\n",
        "import pyspark\n",
        "from pyspark.sql import SQLContext"
      ],
      "execution_count": null,
      "outputs": []
    },
    {
      "cell_type": "code",
      "metadata": {
        "id": "SD57kntew5rH"
      },
      "source": [
        "\n",
        "try:\n",
        "    if(spark == None):\n",
        "        spark = SparkSession.builder.appName('Initial').getOrCreate()\n",
        "        sqlContext=SQLContext(spark)\n",
        "except NameError:\n",
        "    spark = SparkSession.builder.appName('Initial').getOrCreate()\n",
        "    sqlContext=SQLContext(spark)"
      ],
      "execution_count": null,
      "outputs": []
    },
    {
      "cell_type": "markdown",
      "metadata": {
        "id": "JulY49ik8YY3"
      },
      "source": [
        "# **Importing Yelp data set**"
      ]
    },
    {
      "cell_type": "code",
      "metadata": {
        "id": "lwCKKwcuwbNB",
        "colab": {
          "base_uri": "https://localhost:8080/"
        },
        "outputId": "a63c39f9-e75b-4eee-9df1-adbbe3597287"
      },
      "source": [
        "# Yelp Data Set\n",
        "!wget https://penn-cis545-files.s3.amazonaws.com/yelp_business_attributes.csv -P /content\n",
        "!wget https://penn-cis545-files.s3.amazonaws.com/yelp_business.csv -P /content\n",
        "!wget https://penn-cis545-files.s3.amazonaws.com/yelp_checkin.csv -P /content\n",
        "!wget https://penn-cis545-files.s3.amazonaws.com/yelp_review2.csv -P /content\n",
        "!wget https://penn-cis545-files.s3.amazonaws.com/yelp_user.csv -P /content"
      ],
      "execution_count": null,
      "outputs": [
        {
          "output_type": "stream",
          "text": [
            "--2020-11-16 18:29:05--  https://penn-cis545-files.s3.amazonaws.com/yelp_business_attributes.csv\n",
            "Resolving penn-cis545-files.s3.amazonaws.com (penn-cis545-files.s3.amazonaws.com)... 52.216.105.195\n",
            "Connecting to penn-cis545-files.s3.amazonaws.com (penn-cis545-files.s3.amazonaws.com)|52.216.105.195|:443... connected.\n",
            "HTTP request sent, awaiting response... 200 OK\n",
            "Length: 41377121 (39M) [text/csv]\n",
            "Saving to: ‘/content/yelp_business_attributes.csv’\n",
            "\n",
            "yelp_business_attri 100%[===================>]  39.46M  30.3MB/s    in 1.3s    \n",
            "\n",
            "2020-11-16 18:29:07 (30.3 MB/s) - ‘/content/yelp_business_attributes.csv’ saved [41377121/41377121]\n",
            "\n",
            "--2020-11-16 18:29:07--  https://penn-cis545-files.s3.amazonaws.com/yelp_business.csv\n",
            "Resolving penn-cis545-files.s3.amazonaws.com (penn-cis545-files.s3.amazonaws.com)... 52.217.18.4\n",
            "Connecting to penn-cis545-files.s3.amazonaws.com (penn-cis545-files.s3.amazonaws.com)|52.217.18.4|:443... connected.\n",
            "HTTP request sent, awaiting response... 200 OK\n",
            "Length: 31760674 (30M) [text/csv]\n",
            "Saving to: ‘/content/yelp_business.csv’\n",
            "\n",
            "yelp_business.csv   100%[===================>]  30.29M  27.3MB/s    in 1.1s    \n",
            "\n",
            "2020-11-16 18:29:08 (27.3 MB/s) - ‘/content/yelp_business.csv’ saved [31760674/31760674]\n",
            "\n",
            "--2020-11-16 18:29:08--  https://penn-cis545-files.s3.amazonaws.com/yelp_checkin.csv\n",
            "Resolving penn-cis545-files.s3.amazonaws.com (penn-cis545-files.s3.amazonaws.com)... 52.217.90.28\n",
            "Connecting to penn-cis545-files.s3.amazonaws.com (penn-cis545-files.s3.amazonaws.com)|52.217.90.28|:443... connected.\n",
            "HTTP request sent, awaiting response... 200 OK\n",
            "Length: 135964892 (130M) [text/csv]\n",
            "Saving to: ‘/content/yelp_checkin.csv’\n",
            "\n",
            "yelp_checkin.csv    100%[===================>] 129.67M  33.4MB/s    in 4.3s    \n",
            "\n",
            "2020-11-16 18:29:13 (30.4 MB/s) - ‘/content/yelp_checkin.csv’ saved [135964892/135964892]\n",
            "\n",
            "--2020-11-16 18:29:13--  https://penn-cis545-files.s3.amazonaws.com/yelp_review2.csv\n",
            "Resolving penn-cis545-files.s3.amazonaws.com (penn-cis545-files.s3.amazonaws.com)... 52.217.103.36\n",
            "Connecting to penn-cis545-files.s3.amazonaws.com (penn-cis545-files.s3.amazonaws.com)|52.217.103.36|:443... connected.\n",
            "HTTP request sent, awaiting response... 200 OK\n",
            "Length: 3791120545 (3.5G) [text/csv]\n",
            "Saving to: ‘/content/yelp_review2.csv’\n",
            "\n",
            "yelp_review2.csv    100%[===================>]   3.53G  42.5MB/s    in 86s     \n",
            "\n",
            "2020-11-16 18:30:40 (41.9 MB/s) - ‘/content/yelp_review2.csv’ saved [3791120545/3791120545]\n",
            "\n",
            "--2020-11-16 18:30:40--  https://penn-cis545-files.s3.amazonaws.com/yelp_user.csv\n",
            "Resolving penn-cis545-files.s3.amazonaws.com (penn-cis545-files.s3.amazonaws.com)... 52.217.73.164\n",
            "Connecting to penn-cis545-files.s3.amazonaws.com (penn-cis545-files.s3.amazonaws.com)|52.217.73.164|:443... connected.\n",
            "HTTP request sent, awaiting response... 200 OK\n",
            "Length: 1363176944 (1.3G) [text/csv]\n",
            "Saving to: ‘/content/yelp_user.csv’\n",
            "\n",
            "yelp_user.csv       100%[===================>]   1.27G  45.6MB/s    in 30s     \n",
            "\n",
            "2020-11-16 18:31:10 (43.4 MB/s) - ‘/content/yelp_user.csv’ saved [1363176944/1363176944]\n",
            "\n"
          ],
          "name": "stdout"
        }
      ]
    },
    {
      "cell_type": "markdown",
      "metadata": {
        "id": "Yf1LX3BP8fk5"
      },
      "source": [
        "# **Reading data as spark data frames.**"
      ]
    },
    {
      "cell_type": "code",
      "metadata": {
        "id": "7iWy1yHSxx4Q"
      },
      "source": [
        "spark_reader = spark.read.option(\"quote\", \"\\\"\").option(\"escape\", \"\\\"\")\n",
        "\n",
        "yelp_business_sdf = spark_reader.load('yelp_business.csv', format=\"csv\",header=True)\n",
        "yelp_business_attributes_sdf = spark.read.load('yelp_business_attributes.csv', format=\"csv\",header=True) \n",
        "yelp_check_in_sdf = spark.read.load('yelp_checkin.csv', format=\"csv\",header=True)\n",
        "yelp_reviews_sdf = spark.read.load('yelp_review2.csv', format=\"csv\",header=True)\n",
        "yelp_users_sdf = spark.read.load('yelp_user.csv', format=\"csv\",header=True)\n"
      ],
      "execution_count": null,
      "outputs": []
    },
    {
      "cell_type": "code",
      "metadata": {
        "id": "_J7b2NUbx_nj",
        "colab": {
          "base_uri": "https://localhost:8080/"
        },
        "outputId": "799f0587-b8b0-4aec-e845-377ca87eb560"
      },
      "source": [
        "yelp_business_sdf.show()"
      ],
      "execution_count": null,
      "outputs": [
        {
          "output_type": "stream",
          "text": [
            "+--------------------+--------------------+------------------+--------------------+--------------+-----+-----------+-------------+--------------+-----+------------+-------+--------------------+\n",
            "|         business_id|                name|      neighborhood|             address|          city|state|postal_code|     latitude|     longitude|stars|review_count|is_open|          categories|\n",
            "+--------------------+--------------------+------------------+--------------------+--------------+-----+-----------+-------------+--------------+-----+------------+-------+--------------------+\n",
            "|FYWN1wneV18bWNgQj...|  \"Dental by Design\"|              null|\"4855 E Warner Rd...|     Ahwatukee|   AZ|      85044|   33.3306902|  -111.9785992|  4.0|          22|      1|Dentists;General ...|\n",
            "|He-G7vWjzVUysIKrf...|\"Stephen Szabo Sa...|              null|\"3101 Washington Rd\"|      McMurray|   PA|      15317|   40.2916853|   -80.1048999|  3.0|          11|      1|Hair Stylists;Hai...|\n",
            "|KQPW8lFf1y5BT2Mxi...|\"Western Motor Ve...|              null|\"6025 N 27th Ave,...|       Phoenix|   AZ|      85017|   33.5249025|  -112.1153098|  1.5|          18|      1|Departments of Mo...|\n",
            "|8DShNS-LuFqpEWIp0...|  \"Sports Authority\"|              null|\"5000 Arizona Mil...|         Tempe|   AZ|      85282|   33.3831468|  -111.9647254|  3.0|           9|      0|Sporting Goods;Sh...|\n",
            "|PfOCPjBrlQAnz__NX...|\"Brick House Tave...|              null|      \"581 Howe Ave\"|Cuyahoga Falls|   OH|      44221|   41.1195346|   -81.4756898|  3.5|         116|      1|American (New);Ni...|\n",
            "|o9eMRCWt5PkpLDE0g...|           \"Messina\"|              null|    \"Richterstr. 11\"|     Stuttgart|   BW|      70567|      48.7272|       9.14795|  4.0|           5|      1| Italian;Restaurants|\n",
            "|kCoE3jvEtg6UVz5SO...|        \"BDJ Realty\"|         Summerlin|\"2620 Regatta Dr,...|     Las Vegas|   NV|      89128|     36.20743|    -115.26846|  4.0|           5|      1|Real Estate Servi...|\n",
            "|OD2hnuuTJI9uotcKy...|       \"Soccer Zone\"|              null|\"7240 W Lake Mead...|     Las Vegas|   NV|      89128|   36.1974844|  -115.2496601|  1.5|           9|      1|Shopping;Sporting...|\n",
            "|EsMcGiZaQuG1OOvL9...|  \"Any Given Sundae\"|              null|\"2612 Brandt Scho...|       Wexford|   PA|      15090|40.6151022445|-80.0913487465|  5.0|          15|      1|Coffee & Tea;Ice ...|\n",
            "|TGWhGNusxyMaA4kQV...|\"Detailing Gone M...|              null|                  \"\"|     Henderson|   NV|      89014|36.0558252127| -115.04635039|  5.0|           7|      1|Automotive;Auto D...|\n",
            "|XOSRcvtaKc_Q5H1SA...| \"East Coast Coffee\"|              null|  \"737 West Pike St\"|       Houston|   PA|      15342|40.2415480142|-80.2128151059|  4.5|           3|      0|Breakfast & Brunc...|\n",
            "|Y0eMNa5C-YU1RQOZf...|\"CubeSmart Self S...|              null|\"2414 South Gilbe...|      Chandler|   AZ|      85286|   33.2717201|  -111.7912569|  5.0|          23|      1|Local Services;Se...|\n",
            "|xcgFnd-MwkZeO5G2H...|\"T & T Bakery and...|   Markham Village|  \"35 Main Street N\"|       Markham|   ON|    L3P 1X3|   43.8751774|   -79.2601532|  4.0|          38|      1|Bakeries;Bagels;Food|\n",
            "|NmZtoE3v8RdSJEczY...|\"Complete Dental ...|              null|  \"107 Whitaker Str\"|     Homestead|   PA|      15120|   40.4014882|   -79.8879161|  2.0|           5|      1|General Dentistry...|\n",
            "|fNMVV_ZX7CJSDWQGd...|\"Showmars Governm...|            Uptown|      \"600 E 4th St\"|     Charlotte|   NC|      28202|   35.2216474|   -80.8393449|  3.5|           7|      1|Restaurants;Ameri...|\n",
            "|l09JfMeQ6ynYs5MCJ...|    \"Alize Catering\"|Yonge and Eglinton|     \"2459 Yonge St\"|       Toronto|   ON|    M4P 2H6|   43.7113993|   -79.3993388|  3.0|          12|      0|Italian;French;Re...|\n",
            "|IQSlT5jGE6CCDhSG0...|    \"T & Y Nail Spa\"|              null|\"8411 W Thunderbi...|        Peoria|   AZ|      85381|   33.6086538|  -112.2400118|  3.0|          20|      1|Beauty & Spas;Nai...|\n",
            "|b2I2DXtZVnpUMCXp1...|\"Meineke Car Care...|              null|  \"2518 Ironwood Dr\"|   Sun Prairie|   WI|      53590|     43.18508|    -89.262047|  3.5|           9|      1|Tires;Oil Change ...|\n",
            "|0FMKDOU8TJT1x87OK...|\"Senior's Barber ...|              null|  \"13375 W McDowell\"|      Goodyear|   AZ|      85395|    33.463629|   -112.347038|  5.0|          65|      1|Barbers;Beauty & ...|\n",
            "|Gu-xs3NIQTj3Mj2xY...|\"Maxim Bakery & R...|              null|\"9665 Bayview Ave...| Richmond Hill|   ON|    L4C 9V4|   43.8675648|   -79.4126618|  3.5|          34|      1|French;Food;Baker...|\n",
            "+--------------------+--------------------+------------------+--------------------+--------------+-----+-----------+-------------+--------------+-----+------------+-------+--------------------+\n",
            "only showing top 20 rows\n",
            "\n"
          ],
          "name": "stdout"
        }
      ]
    },
    {
      "cell_type": "markdown",
      "metadata": {
        "id": "XgnCeR3Y8qf6"
      },
      "source": [
        "The Yelp Business data sets contains information for businesses related to all kinds of categories. However, the category of interest to us are restaurants. \r\n",
        "\r\n",
        "We query only those rows from the data set that fall under the restaurant category. "
      ]
    },
    {
      "cell_type": "code",
      "metadata": {
        "id": "e1Dcn9EnyMtH"
      },
      "source": [
        "yelp_business_sdf.createOrReplaceTempView(\"yelp_b\")\n",
        "query = \"\"\"SELECT * FROM yelp_b WHERE categories LIKE '%Restaurants%' and is_open=1\"\"\"\n",
        "yelp_rest = spark.sql(query)\n",
        "yelp_rest.createOrReplaceTempView(\"yelp_rest\")"
      ],
      "execution_count": null,
      "outputs": []
    },
    {
      "cell_type": "markdown",
      "metadata": {
        "id": "pq3vayqpCWKW"
      },
      "source": [
        "Converting spark data frames to pandas data frames. "
      ]
    },
    {
      "cell_type": "code",
      "metadata": {
        "id": "ZWeMIMoPywKq",
        "colab": {
          "base_uri": "https://localhost:8080/",
          "height": 193
        },
        "outputId": "8d15e203-1e68-4725-f15d-0474fd8ca44f"
      },
      "source": [
        "yelp_rest_df = yelp_rest.toPandas()\n",
        "yelp_rest_df.describe()"
      ],
      "execution_count": null,
      "outputs": [
        {
          "output_type": "execute_result",
          "data": {
            "text/html": [
              "<div>\n",
              "<style scoped>\n",
              "    .dataframe tbody tr th:only-of-type {\n",
              "        vertical-align: middle;\n",
              "    }\n",
              "\n",
              "    .dataframe tbody tr th {\n",
              "        vertical-align: top;\n",
              "    }\n",
              "\n",
              "    .dataframe thead th {\n",
              "        text-align: right;\n",
              "    }\n",
              "</style>\n",
              "<table border=\"1\" class=\"dataframe\">\n",
              "  <thead>\n",
              "    <tr style=\"text-align: right;\">\n",
              "      <th></th>\n",
              "      <th>business_id</th>\n",
              "      <th>name</th>\n",
              "      <th>neighborhood</th>\n",
              "      <th>address</th>\n",
              "      <th>city</th>\n",
              "      <th>state</th>\n",
              "      <th>postal_code</th>\n",
              "      <th>latitude</th>\n",
              "      <th>longitude</th>\n",
              "      <th>stars</th>\n",
              "      <th>review_count</th>\n",
              "      <th>is_open</th>\n",
              "      <th>categories</th>\n",
              "    </tr>\n",
              "  </thead>\n",
              "  <tbody>\n",
              "    <tr>\n",
              "      <th>count</th>\n",
              "      <td>40394</td>\n",
              "      <td>40394</td>\n",
              "      <td>17635</td>\n",
              "      <td>40394</td>\n",
              "      <td>40394</td>\n",
              "      <td>40394</td>\n",
              "      <td>40303</td>\n",
              "      <td>40394</td>\n",
              "      <td>40394</td>\n",
              "      <td>40394</td>\n",
              "      <td>40394</td>\n",
              "      <td>40394</td>\n",
              "      <td>40394</td>\n",
              "    </tr>\n",
              "    <tr>\n",
              "      <th>unique</th>\n",
              "      <td>40394</td>\n",
              "      <td>27179</td>\n",
              "      <td>368</td>\n",
              "      <td>36759</td>\n",
              "      <td>748</td>\n",
              "      <td>45</td>\n",
              "      <td>8845</td>\n",
              "      <td>37848</td>\n",
              "      <td>37944</td>\n",
              "      <td>9</td>\n",
              "      <td>977</td>\n",
              "      <td>1</td>\n",
              "      <td>20671</td>\n",
              "    </tr>\n",
              "    <tr>\n",
              "      <th>top</th>\n",
              "      <td>sRUesAB_yPZzzqMtjrwFsA</td>\n",
              "      <td>\"McDonald's\"</td>\n",
              "      <td>Ville-Marie</td>\n",
              "      <td>\"\"</td>\n",
              "      <td>Toronto</td>\n",
              "      <td>ON</td>\n",
              "      <td>89109</td>\n",
              "      <td>43.653226</td>\n",
              "      <td>-79.3831843</td>\n",
              "      <td>4.0</td>\n",
              "      <td>3</td>\n",
              "      <td>1</td>\n",
              "      <td>Restaurants;Pizza</td>\n",
              "    </tr>\n",
              "    <tr>\n",
              "      <th>freq</th>\n",
              "      <td>1</td>\n",
              "      <td>669</td>\n",
              "      <td>1015</td>\n",
              "      <td>263</td>\n",
              "      <td>4968</td>\n",
              "      <td>10006</td>\n",
              "      <td>608</td>\n",
              "      <td>13</td>\n",
              "      <td>13</td>\n",
              "      <td>10270</td>\n",
              "      <td>3217</td>\n",
              "      <td>40394</td>\n",
              "      <td>746</td>\n",
              "    </tr>\n",
              "  </tbody>\n",
              "</table>\n",
              "</div>"
            ],
            "text/plain": [
              "                   business_id          name  ... is_open         categories\n",
              "count                    40394         40394  ...   40394              40394\n",
              "unique                   40394         27179  ...       1              20671\n",
              "top     sRUesAB_yPZzzqMtjrwFsA  \"McDonald's\"  ...       1  Restaurants;Pizza\n",
              "freq                         1           669  ...   40394                746\n",
              "\n",
              "[4 rows x 13 columns]"
            ]
          },
          "metadata": {
            "tags": []
          },
          "execution_count": 22
        }
      ]
    },
    {
      "cell_type": "code",
      "metadata": {
        "id": "qSZp4c8nzCM6",
        "colab": {
          "base_uri": "https://localhost:8080/"
        },
        "outputId": "f2ec276d-2187-472e-947c-e8d8a6dd9767"
      },
      "source": [
        "yelp_reviews_sdf.show()\n",
        "yelp_reviews_sdf.count()"
      ],
      "execution_count": null,
      "outputs": [
        {
          "output_type": "stream",
          "text": [
            "+--------------------+--------------------+--------------------+-----+----------+--------------------+------+-----+----+\n",
            "|           review_id|             user_id|         business_id|stars|      date|                text|useful|funny|cool|\n",
            "+--------------------+--------------------+--------------------+-----+----------+--------------------+------+-----+----+\n",
            "|vkVSCC7xljjrAI4UG...|bv2nCi5Qv5vroFiqK...|AEx2SYEUJmTxVVB18...|    5|2016-05-28|Super simple plac...|     0|    0|   0|\n",
            "|n6QzIUObkYshz4dz2...|bv2nCi5Qv5vroFiqK...|VR6GpWIda3SfvPC-l...|    5|2016-05-28|Small unassuming ...|     0|    0|   0|\n",
            "|MV3CcKScW05u5LVfF...|bv2nCi5Qv5vroFiqK...|CKC0-MOWMqoeWf6s-...|    5|2016-05-28|Lester's is locat...|     0|    0|   0|\n",
            "|IXvOzsEMYtiJI0CAR...|bv2nCi5Qv5vroFiqK...|ACFtxLv8pGrrxMm6E...|    4|2016-05-28|Love coming here....|     0|    0|   0|\n",
            "|L_9BTb55X0GDtThi6...|bv2nCi5Qv5vroFiqK...|s2I_Ni76bjJNK9yG6...|    4|2016-05-28|Had their chocola...|     0|    0|   0|\n",
            "|HRPm3vEZ_F-33TYVT...|_4iMDXbXZ1p1ONG29...|8QWPlVQ6D-OExqXoa...|    5|2014-09-24|Cycle Pub Las Veg...|     1|    0|   0|\n",
            "|ymAUG8DZfQcFTBSOi...|u0LXt3Uea_GidxRW1...|9_CGhHMz8698M9-Pk...|    4|2012-05-11|Who would have gu...|     0|    0|   2|\n",
            "|8UIishPUD92hXtScS...|u0LXt3Uea_GidxRW1...|gkCorLgPyQLsptTHa...|    4|2015-10-27|Always drove past...|     1|    0|   0|\n",
            "|w41ZS9shepfO3uEyh...|u0LXt3Uea_GidxRW1...|5r6-G9C4YLbC7Ziz5...|    3|2013-02-09|Not bad!! Love th...|     1|    0|   0|\n",
            "|WF_QTN3p-thD74hqp...|u0LXt3Uea_GidxRW1...|fDF_o2JPU8BR1Gya-...|    5|2016-04-06|Love this place! ...|     3|    0|   0|\n",
            "|PIsUSmvaUWB00qv5K...|u0LXt3Uea_GidxRW1...|z8oIoCT1cXz7gZP5G...|    4|2013-05-01|This is currently...|     1|    0|   0|\n",
            "|PdZ_uFjbbkjtm3SCY...|u0LXt3Uea_GidxRW1...|XWTPNfskXoUL-Lf32...|    3|2011-09-28|Server was a litt...|     5|    0|   1|\n",
            "|x5oV6wm9_Pb1QQ6jk...|u0LXt3Uea_GidxRW1...|13nKUHH-uEUXVZylg...|    1|2011-02-16|I thought Tidy's ...|     9|    0|   1|\n",
            "|lsoSqIrrDbQvWpMvs...|u0LXt3Uea_GidxRW1...|RtUvSWO_UZ8V3Wpj0...|    3|2012-12-03|Wanted to check o...|     2|    1|   1|\n",
            "|23eqwlZzCWZkADWfd...|u0LXt3Uea_GidxRW1...|Aov96CM4FZAXeZvKt...|    5|2010-07-16|This place is awe...|     2|    0|   1|\n",
            "|FunI9om-aK5oMIIJm...|u0LXt3Uea_GidxRW1...|0W4lkclzZThpx3V65...|    4|2011-09-28|a must stop when ...|     0|    0|   0|\n",
            "|FKu4iU62EmWT6GZXP...|u0LXt3Uea_GidxRW1...|fdnNZMk1NP7ZhL-YM...|    1|2012-10-23|I too have been t...|     0|    0|   0|\n",
            "|xdu8nXrbNKeaywCX7...|u0LXt3Uea_GidxRW1...|PFPUMF38-lraKzLcT...|    3|2010-09-15|Came here with my...|     2|    0|   0|\n",
            "|K7o5jDInfmX3cY5oH...|u0LXt3Uea_GidxRW1...|oWTn2IzrprsRkPfUL...|    3|2012-09-23|Came here for a b...|     4|    0|   0|\n",
            "|WYDFJOBOl7cycd7gN...|u0LXt3Uea_GidxRW1...|zgQHtqX0gqMw1nlBZ...|    1|2012-10-30|really excited to...|     9|    2|   1|\n",
            "+--------------------+--------------------+--------------------+-----+----------+--------------------+------+-----+----+\n",
            "only showing top 20 rows\n",
            "\n"
          ],
          "name": "stdout"
        },
        {
          "output_type": "execute_result",
          "data": {
            "text/plain": [
              "5278853"
            ]
          },
          "metadata": {
            "tags": []
          },
          "execution_count": 23
        }
      ]
    },
    {
      "cell_type": "markdown",
      "metadata": {
        "id": "kBMhNOSjJ7Fs"
      },
      "source": [
        "# **Reviews**\r\n",
        "\r\n",
        "Getting reviews for each restaurant by joining on business id from Yelp reviews and Restaurant data set. "
      ]
    },
    {
      "cell_type": "code",
      "metadata": {
        "id": "00ywLe535Sjd"
      },
      "source": [
        "yelp_reviews_sdf.createOrReplaceTempView(\"reviews\")\n",
        "query = \"\"\"\n",
        "SELECT DISTINCT r.review_id as index, null as recipe_id, r.stars as rating, \n",
        "r.text as review, r.business_id as restaurant_id\n",
        "FROM reviews r join yelp_rest b on r.business_id=b.business_id;\n",
        "\"\"\"\n",
        "rest_reviews = spark.sql(query)\n",
        "rest_reviews.createOrReplaceTempView(\"rest_reviews\")\n",
        "rest_reviews.show()"
      ],
      "execution_count": null,
      "outputs": []
    },
    {
      "cell_type": "code",
      "metadata": {
        "id": "eteQJtZWQB_F"
      },
      "source": [
        "spark.catalog.clearCache()"
      ],
      "execution_count": null,
      "outputs": []
    },
    {
      "cell_type": "code",
      "metadata": {
        "id": "LSw-mkGwVqcY"
      },
      "source": [
        "rest_reviews.toPandas().to_csv(path+'/RestReview.csv')\n",
        "rest_reviews2 = spark.sql(\"SELECT * FROM rest_reviews ORDER BY index desc limit\")"
      ],
      "execution_count": null,
      "outputs": []
    },
    {
      "cell_type": "markdown",
      "metadata": {
        "id": "4R8EVIp0IqBG"
      },
      "source": [
        "Extracting recipe reviews. "
      ]
    },
    {
      "cell_type": "code",
      "metadata": {
        "id": "m2xKNrtE0FPN",
        "colab": {
          "base_uri": "https://localhost:8080/",
          "height": 419
        },
        "outputId": "d0bc56d1-3d37-4975-f2cc-21ca4556ff82"
      },
      "source": [
        "import numpy as np\n",
        "recipe_review = interactions_csv[['recipe_id','rating','review']].reset_index()\n",
        "recipe_review['restaurant_id'] = np.nan\n",
        "display(recipe_review)\n",
        "recipe_review.to_csv(path+'/RecipeReview.csv')"
      ],
      "execution_count": null,
      "outputs": [
        {
          "output_type": "display_data",
          "data": {
            "text/html": [
              "<div>\n",
              "<style scoped>\n",
              "    .dataframe tbody tr th:only-of-type {\n",
              "        vertical-align: middle;\n",
              "    }\n",
              "\n",
              "    .dataframe tbody tr th {\n",
              "        vertical-align: top;\n",
              "    }\n",
              "\n",
              "    .dataframe thead th {\n",
              "        text-align: right;\n",
              "    }\n",
              "</style>\n",
              "<table border=\"1\" class=\"dataframe\">\n",
              "  <thead>\n",
              "    <tr style=\"text-align: right;\">\n",
              "      <th></th>\n",
              "      <th>index</th>\n",
              "      <th>recipe_id</th>\n",
              "      <th>rating</th>\n",
              "      <th>review</th>\n",
              "      <th>restaurant_id</th>\n",
              "    </tr>\n",
              "  </thead>\n",
              "  <tbody>\n",
              "    <tr>\n",
              "      <th>0</th>\n",
              "      <td>0</td>\n",
              "      <td>40893</td>\n",
              "      <td>4</td>\n",
              "      <td>Great with a salad. Cooked on top of stove for...</td>\n",
              "      <td>NaN</td>\n",
              "    </tr>\n",
              "    <tr>\n",
              "      <th>1</th>\n",
              "      <td>1</td>\n",
              "      <td>40893</td>\n",
              "      <td>5</td>\n",
              "      <td>So simple, so delicious! Great for chilly fall...</td>\n",
              "      <td>NaN</td>\n",
              "    </tr>\n",
              "    <tr>\n",
              "      <th>2</th>\n",
              "      <td>2</td>\n",
              "      <td>44394</td>\n",
              "      <td>4</td>\n",
              "      <td>This worked very well and is EASY.  I used not...</td>\n",
              "      <td>NaN</td>\n",
              "    </tr>\n",
              "    <tr>\n",
              "      <th>3</th>\n",
              "      <td>3</td>\n",
              "      <td>85009</td>\n",
              "      <td>5</td>\n",
              "      <td>I made the Mexican topping and took it to bunk...</td>\n",
              "      <td>NaN</td>\n",
              "    </tr>\n",
              "    <tr>\n",
              "      <th>4</th>\n",
              "      <td>4</td>\n",
              "      <td>85009</td>\n",
              "      <td>5</td>\n",
              "      <td>Made the cheddar bacon topping, adding a sprin...</td>\n",
              "      <td>NaN</td>\n",
              "    </tr>\n",
              "    <tr>\n",
              "      <th>...</th>\n",
              "      <td>...</td>\n",
              "      <td>...</td>\n",
              "      <td>...</td>\n",
              "      <td>...</td>\n",
              "      <td>...</td>\n",
              "    </tr>\n",
              "    <tr>\n",
              "      <th>1132362</th>\n",
              "      <td>1132362</td>\n",
              "      <td>72730</td>\n",
              "      <td>0</td>\n",
              "      <td>Another approach is to start making sauce with...</td>\n",
              "      <td>NaN</td>\n",
              "    </tr>\n",
              "    <tr>\n",
              "      <th>1132363</th>\n",
              "      <td>1132363</td>\n",
              "      <td>386618</td>\n",
              "      <td>5</td>\n",
              "      <td>These were so delicious!  My husband and I tru...</td>\n",
              "      <td>NaN</td>\n",
              "    </tr>\n",
              "    <tr>\n",
              "      <th>1132364</th>\n",
              "      <td>1132364</td>\n",
              "      <td>78003</td>\n",
              "      <td>5</td>\n",
              "      <td>WOW!  Sometimes I don't take the time to rate ...</td>\n",
              "      <td>NaN</td>\n",
              "    </tr>\n",
              "    <tr>\n",
              "      <th>1132365</th>\n",
              "      <td>1132365</td>\n",
              "      <td>78003</td>\n",
              "      <td>4</td>\n",
              "      <td>Very good!  I used regular port as well.  The ...</td>\n",
              "      <td>NaN</td>\n",
              "    </tr>\n",
              "    <tr>\n",
              "      <th>1132366</th>\n",
              "      <td>1132366</td>\n",
              "      <td>78003</td>\n",
              "      <td>5</td>\n",
              "      <td>I am so glad I googled and found this here. Th...</td>\n",
              "      <td>NaN</td>\n",
              "    </tr>\n",
              "  </tbody>\n",
              "</table>\n",
              "<p>1132367 rows × 5 columns</p>\n",
              "</div>"
            ],
            "text/plain": [
              "           index  ...  restaurant_id\n",
              "0              0  ...            NaN\n",
              "1              1  ...            NaN\n",
              "2              2  ...            NaN\n",
              "3              3  ...            NaN\n",
              "4              4  ...            NaN\n",
              "...          ...  ...            ...\n",
              "1132362  1132362  ...            NaN\n",
              "1132363  1132363  ...            NaN\n",
              "1132364  1132364  ...            NaN\n",
              "1132365  1132365  ...            NaN\n",
              "1132366  1132366  ...            NaN\n",
              "\n",
              "[1132367 rows x 5 columns]"
            ]
          },
          "metadata": {
            "tags": []
          }
        }
      ]
    },
    {
      "cell_type": "markdown",
      "metadata": {
        "id": "982iODuxF34Q"
      },
      "source": [
        "Combining restaurant reviews and recipe reviews as a single table."
      ]
    },
    {
      "cell_type": "code",
      "metadata": {
        "id": "t3EwwuYg8rWp"
      },
      "source": [
        "Reviews = pd.concat([recipe_review,rest_reviews])\n",
        "Reviews"
      ],
      "execution_count": null,
      "outputs": []
    },
    {
      "cell_type": "code",
      "metadata": {
        "id": "6vpIc4B58bp3"
      },
      "source": [
        "yelp_business_attributes_sdf.show()\n",
        "# yelp_business_attributes_sdf.count()"
      ],
      "execution_count": null,
      "outputs": []
    },
    {
      "cell_type": "markdown",
      "metadata": {
        "id": "2Fxns69sJnkT"
      },
      "source": [
        "# **RecipeTags**\r\n",
        "\r\n",
        "\r\n",
        "Splitting values in a list under the tags column on **'  ,  '** and extracting tags for each recipe.\r\n",
        "\r\n",
        "\r\n",
        "Subsequently passing the resultant table as a csv file."
      ]
    },
    {
      "cell_type": "code",
      "metadata": {
        "id": "tCvWIazOUhWf"
      },
      "source": [
        "raw_recipes['tags'] = raw_recipes.tags.apply(lambda x : x[1:-1].split(', '))\n",
        "raw_recipes = raw_recipes.explode('tags')"
      ],
      "execution_count": null,
      "outputs": []
    },
    {
      "cell_type": "code",
      "metadata": {
        "id": "oub9zIkSUtRQ"
      },
      "source": [
        "raw_recipes['tags'] = raw_recipes['tags'].apply(lambda x: x[1:-1])"
      ],
      "execution_count": null,
      "outputs": []
    },
    {
      "cell_type": "code",
      "metadata": {
        "id": "-A-feJriUn6S"
      },
      "source": [
        "raw_recipes_tags = raw_recipes.loc[:,['id','tags']].drop_duplicates()\r\n",
        "path = '/content/drive/My Drive/Project - CIS 550/'\r\n",
        "raw_recipes_tags.to_csv(path+'/RecipesTags.csv')"
      ],
      "execution_count": null,
      "outputs": []
    },
    {
      "cell_type": "code",
      "metadata": {
        "id": "rGM0GYYFkbyW"
      },
      "source": [
        "recipes = raw_recipes[['id','name','description']]"
      ],
      "execution_count": null,
      "outputs": []
    },
    {
      "cell_type": "code",
      "metadata": {
        "id": "bzL8aSTetbut"
      },
      "source": [
        "raw_recipes"
      ],
      "execution_count": null,
      "outputs": []
    },
    {
      "cell_type": "markdown",
      "metadata": {
        "id": "5Zri9mVoOAqy"
      },
      "source": [
        "# **InRecipe**\r\n",
        "\r\n",
        "\r\n",
        "A table representing the ingredientsID present for each recipeID. \r\n",
        "\r\n",
        "RecipeID is a foreign key referencing to ID in Recipes table\r\n",
        "ingredientsID is a foreign key referencing to ID in Ingredients table."
      ]
    },
    {
      "cell_type": "code",
      "metadata": {
        "id": "XJGXetyUz1ZZ",
        "colab": {
          "base_uri": "https://localhost:8080/",
          "height": 419
        },
        "outputId": "738fcb64-72e7-4d84-ba35-0273aedbc8d5"
      },
      "source": [
        "InRecipe = raw_recipes.loc[:,['id','ingredients']]\n",
        "InRecipe['ingredients'] = InRecipe.ingredients.apply(lambda x : x[1:-1].split(', '))\n",
        "InRecipe = InRecipe.explode('ingredients')\n",
        "InRecipe['ingredients'] = InRecipe['ingredients'].astype(str).apply(lambda x: x[1:-1])\n",
        "InRecipe.drop_duplicates(inplace=True)\n",
        "InRecipe"
      ],
      "execution_count": null,
      "outputs": [
        {
          "output_type": "execute_result",
          "data": {
            "text/html": [
              "<div>\n",
              "<style scoped>\n",
              "    .dataframe tbody tr th:only-of-type {\n",
              "        vertical-align: middle;\n",
              "    }\n",
              "\n",
              "    .dataframe tbody tr th {\n",
              "        vertical-align: top;\n",
              "    }\n",
              "\n",
              "    .dataframe thead th {\n",
              "        text-align: right;\n",
              "    }\n",
              "</style>\n",
              "<table border=\"1\" class=\"dataframe\">\n",
              "  <thead>\n",
              "    <tr style=\"text-align: right;\">\n",
              "      <th></th>\n",
              "      <th>id</th>\n",
              "      <th>ingredients</th>\n",
              "    </tr>\n",
              "  </thead>\n",
              "  <tbody>\n",
              "    <tr>\n",
              "      <th>0</th>\n",
              "      <td>137739</td>\n",
              "      <td>winter squash</td>\n",
              "    </tr>\n",
              "    <tr>\n",
              "      <th>0</th>\n",
              "      <td>137739</td>\n",
              "      <td>mexican seasoning</td>\n",
              "    </tr>\n",
              "    <tr>\n",
              "      <th>0</th>\n",
              "      <td>137739</td>\n",
              "      <td>mixed spice</td>\n",
              "    </tr>\n",
              "    <tr>\n",
              "      <th>0</th>\n",
              "      <td>137739</td>\n",
              "      <td>honey</td>\n",
              "    </tr>\n",
              "    <tr>\n",
              "      <th>0</th>\n",
              "      <td>137739</td>\n",
              "      <td>butter</td>\n",
              "    </tr>\n",
              "    <tr>\n",
              "      <th>...</th>\n",
              "      <td>...</td>\n",
              "      <td>...</td>\n",
              "    </tr>\n",
              "    <tr>\n",
              "      <th>231636</th>\n",
              "      <td>298509</td>\n",
              "      <td>eggs</td>\n",
              "    </tr>\n",
              "    <tr>\n",
              "      <th>231636</th>\n",
              "      <td>298509</td>\n",
              "      <td>flour</td>\n",
              "    </tr>\n",
              "    <tr>\n",
              "      <th>231636</th>\n",
              "      <td>298509</td>\n",
              "      <td>cream of tartar</td>\n",
              "    </tr>\n",
              "    <tr>\n",
              "      <th>231636</th>\n",
              "      <td>298509</td>\n",
              "      <td>baking soda</td>\n",
              "    </tr>\n",
              "    <tr>\n",
              "      <th>231636</th>\n",
              "      <td>298509</td>\n",
              "      <td>vanilla extract</td>\n",
              "    </tr>\n",
              "  </tbody>\n",
              "</table>\n",
              "<p>2103109 rows × 2 columns</p>\n",
              "</div>"
            ],
            "text/plain": [
              "            id        ingredients\n",
              "0       137739      winter squash\n",
              "0       137739  mexican seasoning\n",
              "0       137739        mixed spice\n",
              "0       137739              honey\n",
              "0       137739             butter\n",
              "...        ...                ...\n",
              "231636  298509               eggs\n",
              "231636  298509              flour\n",
              "231636  298509    cream of tartar\n",
              "231636  298509        baking soda\n",
              "231636  298509    vanilla extract\n",
              "\n",
              "[2103109 rows x 2 columns]"
            ]
          },
          "metadata": {
            "tags": []
          },
          "execution_count": 29
        }
      ]
    },
    {
      "cell_type": "code",
      "metadata": {
        "id": "bO8QuIOsCQ9G",
        "colab": {
          "base_uri": "https://localhost:8080/",
          "height": 419
        },
        "outputId": "6ecadbc0-33f8-4bd0-ad5a-ae4dde5c390c"
      },
      "source": [
        "InRecipe_final = InRecipe.merge(Ingredients,on='ingredients').loc[:,['id','index']]\n",
        "InRecipe_final"
      ],
      "execution_count": null,
      "outputs": [
        {
          "output_type": "execute_result",
          "data": {
            "text/html": [
              "<div>\n",
              "<style scoped>\n",
              "    .dataframe tbody tr th:only-of-type {\n",
              "        vertical-align: middle;\n",
              "    }\n",
              "\n",
              "    .dataframe tbody tr th {\n",
              "        vertical-align: top;\n",
              "    }\n",
              "\n",
              "    .dataframe thead th {\n",
              "        text-align: right;\n",
              "    }\n",
              "</style>\n",
              "<table border=\"1\" class=\"dataframe\">\n",
              "  <thead>\n",
              "    <tr style=\"text-align: right;\">\n",
              "      <th></th>\n",
              "      <th>id</th>\n",
              "      <th>index</th>\n",
              "    </tr>\n",
              "  </thead>\n",
              "  <tbody>\n",
              "    <tr>\n",
              "      <th>0</th>\n",
              "      <td>137739</td>\n",
              "      <td>0</td>\n",
              "    </tr>\n",
              "    <tr>\n",
              "      <th>1</th>\n",
              "      <td>85912</td>\n",
              "      <td>0</td>\n",
              "    </tr>\n",
              "    <tr>\n",
              "      <th>2</th>\n",
              "      <td>121604</td>\n",
              "      <td>0</td>\n",
              "    </tr>\n",
              "    <tr>\n",
              "      <th>3</th>\n",
              "      <td>70514</td>\n",
              "      <td>0</td>\n",
              "    </tr>\n",
              "    <tr>\n",
              "      <th>4</th>\n",
              "      <td>147409</td>\n",
              "      <td>0</td>\n",
              "    </tr>\n",
              "    <tr>\n",
              "      <th>...</th>\n",
              "      <td>...</td>\n",
              "      <td>...</td>\n",
              "    </tr>\n",
              "    <tr>\n",
              "      <th>2103104</th>\n",
              "      <td>20948</td>\n",
              "      <td>14912</td>\n",
              "    </tr>\n",
              "    <tr>\n",
              "      <th>2103105</th>\n",
              "      <td>485697</td>\n",
              "      <td>14913</td>\n",
              "    </tr>\n",
              "    <tr>\n",
              "      <th>2103106</th>\n",
              "      <td>485697</td>\n",
              "      <td>14914</td>\n",
              "    </tr>\n",
              "    <tr>\n",
              "      <th>2103107</th>\n",
              "      <td>334581</td>\n",
              "      <td>14915</td>\n",
              "    </tr>\n",
              "    <tr>\n",
              "      <th>2103108</th>\n",
              "      <td>245641</td>\n",
              "      <td>14916</td>\n",
              "    </tr>\n",
              "  </tbody>\n",
              "</table>\n",
              "<p>2103109 rows × 2 columns</p>\n",
              "</div>"
            ],
            "text/plain": [
              "             id  index\n",
              "0        137739      0\n",
              "1         85912      0\n",
              "2        121604      0\n",
              "3         70514      0\n",
              "4        147409      0\n",
              "...         ...    ...\n",
              "2103104   20948  14912\n",
              "2103105  485697  14913\n",
              "2103106  485697  14914\n",
              "2103107  334581  14915\n",
              "2103108  245641  14916\n",
              "\n",
              "[2103109 rows x 2 columns]"
            ]
          },
          "metadata": {
            "tags": []
          },
          "execution_count": 32
        }
      ]
    },
    {
      "cell_type": "code",
      "metadata": {
        "id": "gTK2l3wb-JdF"
      },
      "source": [
        "InRecipe_final.to_csv(path+'/InRecipe.csv')"
      ],
      "execution_count": null,
      "outputs": []
    },
    {
      "cell_type": "code",
      "metadata": {
        "id": "D2YfHdxjhI-L"
      },
      "source": [
        "starting_point = 1723188+122000\n",
        "InRecipe_end = InRecipe_final.iloc[starting_point:]\n",
        "InRecipe_end.to_csv(path+'/InRecipeEND.csv')"
      ],
      "execution_count": null,
      "outputs": []
    },
    {
      "cell_type": "code",
      "metadata": {
        "id": "_8va1L32w8Va"
      },
      "source": [
        "InRecipe_end"
      ],
      "execution_count": null,
      "outputs": []
    },
    {
      "cell_type": "markdown",
      "metadata": {
        "id": "41MIlMuvOtHC"
      },
      "source": [
        "# **Ingredients**"
      ]
    },
    {
      "cell_type": "code",
      "metadata": {
        "id": "T0mV5XZo1fxR",
        "colab": {
          "base_uri": "https://localhost:8080/",
          "height": 419
        },
        "outputId": "f88a8404-dd4e-47f8-fda3-983dac50bc8d"
      },
      "source": [
        "Ingredients = InRecipe['ingredients']\n",
        "Ingredients.drop_duplicates(inplace=True)\n",
        "Ingredients = Ingredients.reset_index()['ingredients'].reset_index()\n",
        "Ingredients"
      ],
      "execution_count": null,
      "outputs": [
        {
          "output_type": "execute_result",
          "data": {
            "text/html": [
              "<div>\n",
              "<style scoped>\n",
              "    .dataframe tbody tr th:only-of-type {\n",
              "        vertical-align: middle;\n",
              "    }\n",
              "\n",
              "    .dataframe tbody tr th {\n",
              "        vertical-align: top;\n",
              "    }\n",
              "\n",
              "    .dataframe thead th {\n",
              "        text-align: right;\n",
              "    }\n",
              "</style>\n",
              "<table border=\"1\" class=\"dataframe\">\n",
              "  <thead>\n",
              "    <tr style=\"text-align: right;\">\n",
              "      <th></th>\n",
              "      <th>index</th>\n",
              "      <th>ingredients</th>\n",
              "    </tr>\n",
              "  </thead>\n",
              "  <tbody>\n",
              "    <tr>\n",
              "      <th>0</th>\n",
              "      <td>0</td>\n",
              "      <td>winter squash</td>\n",
              "    </tr>\n",
              "    <tr>\n",
              "      <th>1</th>\n",
              "      <td>1</td>\n",
              "      <td>mexican seasoning</td>\n",
              "    </tr>\n",
              "    <tr>\n",
              "      <th>2</th>\n",
              "      <td>2</td>\n",
              "      <td>mixed spice</td>\n",
              "    </tr>\n",
              "    <tr>\n",
              "      <th>3</th>\n",
              "      <td>3</td>\n",
              "      <td>honey</td>\n",
              "    </tr>\n",
              "    <tr>\n",
              "      <th>4</th>\n",
              "      <td>4</td>\n",
              "      <td>butter</td>\n",
              "    </tr>\n",
              "    <tr>\n",
              "      <th>...</th>\n",
              "      <td>...</td>\n",
              "      <td>...</td>\n",
              "    </tr>\n",
              "    <tr>\n",
              "      <th>14912</th>\n",
              "      <td>14912</td>\n",
              "      <td>apricot jell-o</td>\n",
              "    </tr>\n",
              "    <tr>\n",
              "      <th>14913</th>\n",
              "      <td>14913</td>\n",
              "      <td>rosarita premium whole black beans</td>\n",
              "    </tr>\n",
              "    <tr>\n",
              "      <th>14914</th>\n",
              "      <td>14914</td>\n",
              "      <td>hunt's fire roasted diced tomatoes</td>\n",
              "    </tr>\n",
              "    <tr>\n",
              "      <th>14915</th>\n",
              "      <td>14915</td>\n",
              "      <td>skinless halibut fillet</td>\n",
              "    </tr>\n",
              "    <tr>\n",
              "      <th>14916</th>\n",
              "      <td>14916</td>\n",
              "      <td>nepitella</td>\n",
              "    </tr>\n",
              "  </tbody>\n",
              "</table>\n",
              "<p>14917 rows × 2 columns</p>\n",
              "</div>"
            ],
            "text/plain": [
              "       index                         ingredients\n",
              "0          0                       winter squash\n",
              "1          1                   mexican seasoning\n",
              "2          2                         mixed spice\n",
              "3          3                               honey\n",
              "4          4                              butter\n",
              "...      ...                                 ...\n",
              "14912  14912                      apricot jell-o\n",
              "14913  14913  rosarita premium whole black beans\n",
              "14914  14914  hunt's fire roasted diced tomatoes\n",
              "14915  14915             skinless halibut fillet\n",
              "14916  14916                           nepitella\n",
              "\n",
              "[14917 rows x 2 columns]"
            ]
          },
          "metadata": {
            "tags": []
          },
          "execution_count": 31
        }
      ]
    },
    {
      "cell_type": "code",
      "metadata": {
        "id": "278iYJn5-Oem"
      },
      "source": [
        "Ingredients.to_csv(path+'/Ingredients.csv')"
      ],
      "execution_count": null,
      "outputs": []
    },
    {
      "cell_type": "code",
      "metadata": {
        "id": "GSa3Nb1Qz1Zk"
      },
      "source": [
        "raw_recipes['ingredients'] = raw_recipes['ingredients'].apply(lambda x: x[1:-1])"
      ],
      "execution_count": null,
      "outputs": []
    },
    {
      "cell_type": "code",
      "metadata": {
        "id": "ibLC-X8UkbxK"
      },
      "source": [
        "recipes = recipes.drop_duplicates()"
      ],
      "execution_count": null,
      "outputs": []
    },
    {
      "cell_type": "code",
      "metadata": {
        "id": "IqIUoYmmqJcS"
      },
      "source": [
        "recipes.sort_values(by='id').head(20)"
      ],
      "execution_count": null,
      "outputs": []
    },
    {
      "cell_type": "code",
      "metadata": {
        "id": "a_zp-BQUkj3N"
      },
      "source": [
        "recipes.to_csv(path+'/Recipes.csv')"
      ],
      "execution_count": null,
      "outputs": []
    },
    {
      "cell_type": "markdown",
      "metadata": {
        "id": "SS7wPuOxP6wU"
      },
      "source": [
        "# **Instructions / Steps**\r\n",
        "\r\n",
        "A table that contains information on step by step instructions for a recipe. "
      ]
    },
    {
      "cell_type": "code",
      "metadata": {
        "id": "C2wRcH22yZIr",
        "colab": {
          "base_uri": "https://localhost:8080/",
          "height": 419
        },
        "outputId": "ab8ecd09-1e3d-49f3-b0e5-483c4425eb70"
      },
      "source": [
        "steps_df = raw_recipes[['id','steps']]\n",
        "steps_df"
      ],
      "execution_count": null,
      "outputs": [
        {
          "output_type": "execute_result",
          "data": {
            "text/html": [
              "<div>\n",
              "<style scoped>\n",
              "    .dataframe tbody tr th:only-of-type {\n",
              "        vertical-align: middle;\n",
              "    }\n",
              "\n",
              "    .dataframe tbody tr th {\n",
              "        vertical-align: top;\n",
              "    }\n",
              "\n",
              "    .dataframe thead th {\n",
              "        text-align: right;\n",
              "    }\n",
              "</style>\n",
              "<table border=\"1\" class=\"dataframe\">\n",
              "  <thead>\n",
              "    <tr style=\"text-align: right;\">\n",
              "      <th></th>\n",
              "      <th>id</th>\n",
              "      <th>steps</th>\n",
              "    </tr>\n",
              "  </thead>\n",
              "  <tbody>\n",
              "    <tr>\n",
              "      <th>0</th>\n",
              "      <td>137739</td>\n",
              "      <td>['make a choice and proceed with recipe', 'dep...</td>\n",
              "    </tr>\n",
              "    <tr>\n",
              "      <th>1</th>\n",
              "      <td>31490</td>\n",
              "      <td>['preheat oven to 425 degrees f', 'press dough...</td>\n",
              "    </tr>\n",
              "    <tr>\n",
              "      <th>2</th>\n",
              "      <td>112140</td>\n",
              "      <td>['brown ground beef in large pot', 'add choppe...</td>\n",
              "    </tr>\n",
              "    <tr>\n",
              "      <th>3</th>\n",
              "      <td>59389</td>\n",
              "      <td>['place potatoes in a large pot of lightly sal...</td>\n",
              "    </tr>\n",
              "    <tr>\n",
              "      <th>4</th>\n",
              "      <td>44061</td>\n",
              "      <td>['mix all ingredients&amp; boil for 2 1 / 2 hours ...</td>\n",
              "    </tr>\n",
              "    <tr>\n",
              "      <th>...</th>\n",
              "      <td>...</td>\n",
              "      <td>...</td>\n",
              "    </tr>\n",
              "    <tr>\n",
              "      <th>231632</th>\n",
              "      <td>486161</td>\n",
              "      <td>['heat oil in a 4-quart dutch oven', 'add cele...</td>\n",
              "    </tr>\n",
              "    <tr>\n",
              "      <th>231633</th>\n",
              "      <td>493372</td>\n",
              "      <td>['mix all ingredients together thoroughly']</td>\n",
              "    </tr>\n",
              "    <tr>\n",
              "      <th>231634</th>\n",
              "      <td>308080</td>\n",
              "      <td>['in a bowl , combine the mashed yolks and may...</td>\n",
              "    </tr>\n",
              "    <tr>\n",
              "      <th>231635</th>\n",
              "      <td>298512</td>\n",
              "      <td>['place melted butter in a large mixing bowl a...</td>\n",
              "    </tr>\n",
              "    <tr>\n",
              "      <th>231636</th>\n",
              "      <td>298509</td>\n",
              "      <td>['whip sugar and shortening in a large bowl , ...</td>\n",
              "    </tr>\n",
              "  </tbody>\n",
              "</table>\n",
              "<p>231637 rows × 2 columns</p>\n",
              "</div>"
            ],
            "text/plain": [
              "            id                                              steps\n",
              "0       137739  ['make a choice and proceed with recipe', 'dep...\n",
              "1        31490  ['preheat oven to 425 degrees f', 'press dough...\n",
              "2       112140  ['brown ground beef in large pot', 'add choppe...\n",
              "3        59389  ['place potatoes in a large pot of lightly sal...\n",
              "4        44061  ['mix all ingredients& boil for 2 1 / 2 hours ...\n",
              "...        ...                                                ...\n",
              "231632  486161  ['heat oil in a 4-quart dutch oven', 'add cele...\n",
              "231633  493372        ['mix all ingredients together thoroughly']\n",
              "231634  308080  ['in a bowl , combine the mashed yolks and may...\n",
              "231635  298512  ['place melted butter in a large mixing bowl a...\n",
              "231636  298509  ['whip sugar and shortening in a large bowl , ...\n",
              "\n",
              "[231637 rows x 2 columns]"
            ]
          },
          "metadata": {
            "tags": []
          },
          "execution_count": 21
        }
      ]
    },
    {
      "cell_type": "code",
      "metadata": {
        "id": "FG9aGO3DyvmZ",
        "colab": {
          "base_uri": "https://localhost:8080/",
          "height": 643
        },
        "outputId": "b78d8661-a5ad-4da2-b100-aa504bf68513"
      },
      "source": [
        "steps_df['steps'] = steps_df.steps.apply(lambda x : x[1:-1].split(\"', '\"))\n",
        "steps_df['steps'] = steps_df.steps.apply(lambda x : list(zip(list(range(1,len(x)+1)),x)))\n",
        "steps_df = steps_df.explode('steps')\n",
        "steps_df.loc[:,'stepNum']=steps_df.steps.map(lambda x:x[0])\n",
        "steps_df.loc[:,'instruction']=steps_df.steps.map(lambda x:x[1])\n",
        "\n",
        "steps_df.drop(columns=['steps'],inplace=True)\n",
        "\n",
        "steps_df.instruction = steps_df.instruction.apply(lambda x : x.replace(\"'\",\"\"))\n",
        "steps_df"
      ],
      "execution_count": null,
      "outputs": [
        {
          "output_type": "stream",
          "text": [
            "/usr/local/lib/python3.6/dist-packages/ipykernel_launcher.py:1: SettingWithCopyWarning: \n",
            "A value is trying to be set on a copy of a slice from a DataFrame.\n",
            "Try using .loc[row_indexer,col_indexer] = value instead\n",
            "\n",
            "See the caveats in the documentation: https://pandas.pydata.org/pandas-docs/stable/user_guide/indexing.html#returning-a-view-versus-a-copy\n",
            "  \"\"\"Entry point for launching an IPython kernel.\n",
            "/usr/local/lib/python3.6/dist-packages/ipykernel_launcher.py:2: SettingWithCopyWarning: \n",
            "A value is trying to be set on a copy of a slice from a DataFrame.\n",
            "Try using .loc[row_indexer,col_indexer] = value instead\n",
            "\n",
            "See the caveats in the documentation: https://pandas.pydata.org/pandas-docs/stable/user_guide/indexing.html#returning-a-view-versus-a-copy\n",
            "  \n"
          ],
          "name": "stderr"
        },
        {
          "output_type": "execute_result",
          "data": {
            "text/html": [
              "<div>\n",
              "<style scoped>\n",
              "    .dataframe tbody tr th:only-of-type {\n",
              "        vertical-align: middle;\n",
              "    }\n",
              "\n",
              "    .dataframe tbody tr th {\n",
              "        vertical-align: top;\n",
              "    }\n",
              "\n",
              "    .dataframe thead th {\n",
              "        text-align: right;\n",
              "    }\n",
              "</style>\n",
              "<table border=\"1\" class=\"dataframe\">\n",
              "  <thead>\n",
              "    <tr style=\"text-align: right;\">\n",
              "      <th></th>\n",
              "      <th>id</th>\n",
              "      <th>stepNum</th>\n",
              "      <th>instruction</th>\n",
              "    </tr>\n",
              "  </thead>\n",
              "  <tbody>\n",
              "    <tr>\n",
              "      <th>0</th>\n",
              "      <td>137739</td>\n",
              "      <td>1</td>\n",
              "      <td>make a choice and proceed with recipe</td>\n",
              "    </tr>\n",
              "    <tr>\n",
              "      <th>0</th>\n",
              "      <td>137739</td>\n",
              "      <td>2</td>\n",
              "      <td>depending on size of squash , cut into half or...</td>\n",
              "    </tr>\n",
              "    <tr>\n",
              "      <th>0</th>\n",
              "      <td>137739</td>\n",
              "      <td>3</td>\n",
              "      <td>remove seeds</td>\n",
              "    </tr>\n",
              "    <tr>\n",
              "      <th>0</th>\n",
              "      <td>137739</td>\n",
              "      <td>4</td>\n",
              "      <td>for spicy squash , drizzle olive oil or melted...</td>\n",
              "    </tr>\n",
              "    <tr>\n",
              "      <th>0</th>\n",
              "      <td>137739</td>\n",
              "      <td>5</td>\n",
              "      <td>season with mexican seasoning mix ii</td>\n",
              "    </tr>\n",
              "    <tr>\n",
              "      <th>...</th>\n",
              "      <td>...</td>\n",
              "      <td>...</td>\n",
              "      <td>...</td>\n",
              "    </tr>\n",
              "    <tr>\n",
              "      <th>231636</th>\n",
              "      <td>298509</td>\n",
              "      <td>1</td>\n",
              "      <td>whip sugar and shortening in a large bowl , ad...</td>\n",
              "    </tr>\n",
              "    <tr>\n",
              "      <th>231636</th>\n",
              "      <td>298509</td>\n",
              "      <td>2</td>\n",
              "      <td>add remaining ingredients and mix</td>\n",
              "    </tr>\n",
              "    <tr>\n",
              "      <th>231636</th>\n",
              "      <td>298509</td>\n",
              "      <td>3</td>\n",
              "      <td>knead dough into ball , roll out and cut</td>\n",
              "    </tr>\n",
              "    <tr>\n",
              "      <th>231636</th>\n",
              "      <td>298509</td>\n",
              "      <td>4</td>\n",
              "      <td>place on cookie sheet</td>\n",
              "    </tr>\n",
              "    <tr>\n",
              "      <th>231636</th>\n",
              "      <td>298509</td>\n",
              "      <td>5</td>\n",
              "      <td>bake at 350 degrees f for 10 to 12 minutes</td>\n",
              "    </tr>\n",
              "  </tbody>\n",
              "</table>\n",
              "<p>2210703 rows × 3 columns</p>\n",
              "</div>"
            ],
            "text/plain": [
              "            id  stepNum                                        instruction\n",
              "0       137739        1              make a choice and proceed with recipe\n",
              "0       137739        2  depending on size of squash , cut into half or...\n",
              "0       137739        3                                       remove seeds\n",
              "0       137739        4  for spicy squash , drizzle olive oil or melted...\n",
              "0       137739        5               season with mexican seasoning mix ii\n",
              "...        ...      ...                                                ...\n",
              "231636  298509        1  whip sugar and shortening in a large bowl , ad...\n",
              "231636  298509        2                  add remaining ingredients and mix\n",
              "231636  298509        3           knead dough into ball , roll out and cut\n",
              "231636  298509        4                              place on cookie sheet\n",
              "231636  298509        5         bake at 350 degrees f for 10 to 12 minutes\n",
              "\n",
              "[2210703 rows x 3 columns]"
            ]
          },
          "metadata": {
            "tags": []
          },
          "execution_count": 22
        }
      ]
    },
    {
      "cell_type": "code",
      "metadata": {
        "id": "Q0UqGPU7LJS9"
      },
      "source": [
        "steps_df.to_csv(path+\"/Steps.csv\")"
      ],
      "execution_count": null,
      "outputs": []
    }
  ]
}